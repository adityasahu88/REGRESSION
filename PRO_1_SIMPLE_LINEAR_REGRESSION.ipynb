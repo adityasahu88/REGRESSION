{
 "cells": [
  {
   "cell_type": "code",
   "execution_count": 2,
   "id": "5bc9678c",
   "metadata": {},
   "outputs": [
    {
     "data": {
      "text/plain": [
       "'LINEAR REGRESSION IS A PROCESS WHERE THERE EXISTS A RELATIONSHIPS BETWEEN INDEPENPENT VARIABLE (X) AND DEPENDENT VARIABLE (Y)'"
      ]
     },
     "execution_count": 2,
     "metadata": {},
     "output_type": "execute_result"
    }
   ],
   "source": [
    "'''LINEAR REGRESSION IS A PROCESS WHERE THERE EXISTS A RELATIONSHIPS BETWEEN INDEPENPENT VARIABLE (X) AND DEPENDENT VARIABLE (Y)'''"
   ]
  },
  {
   "cell_type": "code",
   "execution_count": null,
   "id": "2312363b",
   "metadata": {},
   "outputs": [],
   "source": [
    "y = f(x)\n",
    "# y = Depentend Variable\n",
    "# x = Independent Variable"
   ]
  },
  {
   "cell_type": "code",
   "execution_count": null,
   "id": "c37d6e3c",
   "metadata": {},
   "outputs": [],
   "source": [
    "''' SIMPLE LINEAR REGRESSION WHERE OUR OUTPUT OR DEPENDENT VARIABLE IS DEPENDS UPON ONE INDEPENDENT  VARIABLE OR ONE FEATURES'''"
   ]
  },
  {
   "cell_type": "code",
   "execution_count": null,
   "id": "9b30d368",
   "metadata": {},
   "outputs": [],
   "source": [
    " # EQUATION \n",
    "    \n",
    "    Y = MX+C\n",
    "    \n",
    "    # Y = DEPENDENT VARIABLE\n",
    "    # C = CONSTANT OR BAIS\n",
    "    # M = WEIGHT  ASSOCIATED WITH X\n",
    "    # X = INDEPENDENT VARIABLE OR FEATURES\n",
    "    \n",
    " # NOTE : WHEN WEIGHT IS ZERO THEN WE WILL GET THE  STAIGHT LINE PARALLEL TO X AXIS "
   ]
  },
  {
   "cell_type": "code",
   "execution_count": null,
   "id": "38bcdf0e",
   "metadata": {},
   "outputs": [],
   "source": [
    "''' MULTIPLE LINEAR REGRESSION MEANS WHEN OUR OUTPUT VARIABLE IS DEPENDS UOPN MORE THAN ONE INDEPENDENT VARIABLE OR MORE THAN ONE FEATURES'''"
   ]
  },
  {
   "cell_type": "code",
   "execution_count": null,
   "id": "7f480488",
   "metadata": {},
   "outputs": [],
   "source": [
    "# EQUATION \n",
    "\n",
    "  Y= M1X1+M2X2+C\n",
    "    \n",
    "    # Y = DEPENDENT VARIABLE (TARGET VARIABLE)\n",
    "    # C = CONSTANT OR BAIS\n",
    "    # M1 = WEIGHT ASSOCIATED WITH FEATURE X1\n",
    "    # M2 = WEIGHT ASSOCIATED WITH FEATURE X2\n",
    "    \n",
    "  # NOTE : THE VALUE OF THE WEIGHT WILL DECIDE WHICH FEATURES HAVE MORE INFLUNENCE ON THE TARGET VARIABLE  "
   ]
  },
  {
   "cell_type": "code",
   "execution_count": 12,
   "id": "9ca1588f",
   "metadata": {},
   "outputs": [],
   "source": [
    "import pandas as pd\n",
    "import numpy as np\n",
    "import matplotlib.pyplot as plt\n",
    "import seaborn as sns\n",
    "from matplotlib import style\n",
    "import warnings\n",
    "warnings.filterwarnings(\"ignore\", category=DeprecationWarning) "
   ]
  },
  {
   "cell_type": "code",
   "execution_count": 13,
   "id": "61870007",
   "metadata": {},
   "outputs": [],
   "source": [
    "# read the flat file \n",
    "df = pd.read_csv('Regression_Data.csv')"
   ]
  },
  {
   "cell_type": "code",
   "execution_count": 14,
   "id": "3780bf53",
   "metadata": {},
   "outputs": [
    {
     "data": {
      "text/html": [
       "<div>\n",
       "<style scoped>\n",
       "    .dataframe tbody tr th:only-of-type {\n",
       "        vertical-align: middle;\n",
       "    }\n",
       "\n",
       "    .dataframe tbody tr th {\n",
       "        vertical-align: top;\n",
       "    }\n",
       "\n",
       "    .dataframe thead th {\n",
       "        text-align: right;\n",
       "    }\n",
       "</style>\n",
       "<table border=\"1\" class=\"dataframe\">\n",
       "  <thead>\n",
       "    <tr style=\"text-align: right;\">\n",
       "      <th></th>\n",
       "      <th>Ind_Data</th>\n",
       "      <th>Dependent_Data</th>\n",
       "    </tr>\n",
       "  </thead>\n",
       "  <tbody>\n",
       "    <tr>\n",
       "      <th>0</th>\n",
       "      <td>1.1</td>\n",
       "      <td>39343</td>\n",
       "    </tr>\n",
       "    <tr>\n",
       "      <th>1</th>\n",
       "      <td>1.3</td>\n",
       "      <td>46205</td>\n",
       "    </tr>\n",
       "    <tr>\n",
       "      <th>2</th>\n",
       "      <td>1.5</td>\n",
       "      <td>37731</td>\n",
       "    </tr>\n",
       "    <tr>\n",
       "      <th>3</th>\n",
       "      <td>2.0</td>\n",
       "      <td>43525</td>\n",
       "    </tr>\n",
       "    <tr>\n",
       "      <th>4</th>\n",
       "      <td>2.2</td>\n",
       "      <td>39891</td>\n",
       "    </tr>\n",
       "    <tr>\n",
       "      <th>5</th>\n",
       "      <td>2.9</td>\n",
       "      <td>56642</td>\n",
       "    </tr>\n",
       "    <tr>\n",
       "      <th>6</th>\n",
       "      <td>3.0</td>\n",
       "      <td>60150</td>\n",
       "    </tr>\n",
       "    <tr>\n",
       "      <th>7</th>\n",
       "      <td>3.2</td>\n",
       "      <td>54445</td>\n",
       "    </tr>\n",
       "    <tr>\n",
       "      <th>8</th>\n",
       "      <td>3.2</td>\n",
       "      <td>64445</td>\n",
       "    </tr>\n",
       "    <tr>\n",
       "      <th>9</th>\n",
       "      <td>3.7</td>\n",
       "      <td>57189</td>\n",
       "    </tr>\n",
       "    <tr>\n",
       "      <th>10</th>\n",
       "      <td>3.9</td>\n",
       "      <td>63218</td>\n",
       "    </tr>\n",
       "    <tr>\n",
       "      <th>11</th>\n",
       "      <td>4.0</td>\n",
       "      <td>55794</td>\n",
       "    </tr>\n",
       "    <tr>\n",
       "      <th>12</th>\n",
       "      <td>4.0</td>\n",
       "      <td>56957</td>\n",
       "    </tr>\n",
       "    <tr>\n",
       "      <th>13</th>\n",
       "      <td>4.1</td>\n",
       "      <td>57081</td>\n",
       "    </tr>\n",
       "    <tr>\n",
       "      <th>14</th>\n",
       "      <td>4.5</td>\n",
       "      <td>61111</td>\n",
       "    </tr>\n",
       "    <tr>\n",
       "      <th>15</th>\n",
       "      <td>4.9</td>\n",
       "      <td>67938</td>\n",
       "    </tr>\n",
       "    <tr>\n",
       "      <th>16</th>\n",
       "      <td>5.1</td>\n",
       "      <td>66029</td>\n",
       "    </tr>\n",
       "    <tr>\n",
       "      <th>17</th>\n",
       "      <td>5.3</td>\n",
       "      <td>83088</td>\n",
       "    </tr>\n",
       "    <tr>\n",
       "      <th>18</th>\n",
       "      <td>5.9</td>\n",
       "      <td>81363</td>\n",
       "    </tr>\n",
       "    <tr>\n",
       "      <th>19</th>\n",
       "      <td>6.0</td>\n",
       "      <td>93940</td>\n",
       "    </tr>\n",
       "    <tr>\n",
       "      <th>20</th>\n",
       "      <td>6.8</td>\n",
       "      <td>91738</td>\n",
       "    </tr>\n",
       "    <tr>\n",
       "      <th>21</th>\n",
       "      <td>7.1</td>\n",
       "      <td>98273</td>\n",
       "    </tr>\n",
       "    <tr>\n",
       "      <th>22</th>\n",
       "      <td>7.9</td>\n",
       "      <td>101302</td>\n",
       "    </tr>\n",
       "    <tr>\n",
       "      <th>23</th>\n",
       "      <td>8.2</td>\n",
       "      <td>113812</td>\n",
       "    </tr>\n",
       "    <tr>\n",
       "      <th>24</th>\n",
       "      <td>8.7</td>\n",
       "      <td>109431</td>\n",
       "    </tr>\n",
       "    <tr>\n",
       "      <th>25</th>\n",
       "      <td>9.0</td>\n",
       "      <td>105582</td>\n",
       "    </tr>\n",
       "    <tr>\n",
       "      <th>26</th>\n",
       "      <td>9.5</td>\n",
       "      <td>116969</td>\n",
       "    </tr>\n",
       "    <tr>\n",
       "      <th>27</th>\n",
       "      <td>9.6</td>\n",
       "      <td>112635</td>\n",
       "    </tr>\n",
       "    <tr>\n",
       "      <th>28</th>\n",
       "      <td>10.3</td>\n",
       "      <td>122391</td>\n",
       "    </tr>\n",
       "    <tr>\n",
       "      <th>29</th>\n",
       "      <td>10.5</td>\n",
       "      <td>121872</td>\n",
       "    </tr>\n",
       "  </tbody>\n",
       "</table>\n",
       "</div>"
      ],
      "text/plain": [
       "    Ind_Data  Dependent_Data\n",
       "0        1.1           39343\n",
       "1        1.3           46205\n",
       "2        1.5           37731\n",
       "3        2.0           43525\n",
       "4        2.2           39891\n",
       "5        2.9           56642\n",
       "6        3.0           60150\n",
       "7        3.2           54445\n",
       "8        3.2           64445\n",
       "9        3.7           57189\n",
       "10       3.9           63218\n",
       "11       4.0           55794\n",
       "12       4.0           56957\n",
       "13       4.1           57081\n",
       "14       4.5           61111\n",
       "15       4.9           67938\n",
       "16       5.1           66029\n",
       "17       5.3           83088\n",
       "18       5.9           81363\n",
       "19       6.0           93940\n",
       "20       6.8           91738\n",
       "21       7.1           98273\n",
       "22       7.9          101302\n",
       "23       8.2          113812\n",
       "24       8.7          109431\n",
       "25       9.0          105582\n",
       "26       9.5          116969\n",
       "27       9.6          112635\n",
       "28      10.3          122391\n",
       "29      10.5          121872"
      ]
     },
     "execution_count": 14,
     "metadata": {},
     "output_type": "execute_result"
    }
   ],
   "source": [
    "df"
   ]
  },
  {
   "cell_type": "markdown",
   "id": "cef37c30",
   "metadata": {},
   "source": [
    "#  Visualizing the Scatter plot between X and y"
   ]
  },
  {
   "cell_type": "code",
   "execution_count": 15,
   "id": "0d63a24e",
   "metadata": {},
   "outputs": [
    {
     "data": {
      "image/png": "[encoded data removed]",
      "text/plain": [
       "<Figure size 1000x500 with 1 Axes>"
      ]
     },
     "metadata": {},
     "output_type": "display_data"
    }
   ],
   "source": [
    "plt.figure(figsize=(10,5))\n",
    "plt.scatter(df[\"Ind_Data\"], df[\"Dependent_Data\"], marker = \"x\", color = 'g', lw = 5)\n",
    "plt.xlabel(\"Independent Data\", fontsize = 16)\n",
    "plt.ylabel('Dependent Data', fontsize = 16)\n",
    "plt.title(\"Salary Vs Exp\")\n",
    "plt.show()"
   ]
  },
  {
   "cell_type": "markdown",
   "id": "a3ba774c",
   "metadata": {},
   "source": [
    "# Let's implement Linear Regression"
   ]
  },
  {
   "cell_type": "code",
   "execution_count": 16,
   "id": "0d4920a4",
   "metadata": {},
   "outputs": [],
   "source": [
    "from sklearn.linear_model import LinearRegression\n",
    "lr=LinearRegression()\n"
   ]
  },
  {
   "cell_type": "code",
   "execution_count": 18,
   "id": "833c49b8",
   "metadata": {},
   "outputs": [
    {
     "data": {
      "text/plain": [
       "(30, 2)"
      ]
     },
     "execution_count": 18,
     "metadata": {},
     "output_type": "execute_result"
    }
   ],
   "source": [
    "df.shape"
   ]
  },
  {
   "cell_type": "code",
   "execution_count": 24,
   "id": "fb26e526",
   "metadata": {},
   "outputs": [],
   "source": [
    "from sklearn.model_selection import train_test_split\n",
    "X_train ,X_test,y_train,y_test =train_test_split(df[[\"Ind_Data\"]],df[[\"Dependent_Data\"]],random_state=42,train_size=0.80)"
   ]
  },
  {
   "cell_type": "code",
   "execution_count": 28,
   "id": "3f41bdd5",
   "metadata": {},
   "outputs": [
    {
     "name": "stdout",
     "output_type": "stream",
     "text": [
      "(24, 1) (6, 1) (24, 1) (6, 1)\n"
     ]
    }
   ],
   "source": [
    "print(X_train.shape,X_test.shape,y_train.shape,y_test.shape)"
   ]
  },
  {
   "cell_type": "markdown",
   "id": "0e6e959f",
   "metadata": {},
   "source": [
    "# Train the model using Linear Regression"
   ]
  },
  {
   "cell_type": "code",
   "execution_count": 29,
   "id": "f1003041",
   "metadata": {},
   "outputs": [
    {
     "data": {
      "text/plain": [
       "LinearRegression()"
      ]
     },
     "execution_count": 29,
     "metadata": {},
     "output_type": "execute_result"
    }
   ],
   "source": [
    "lr.fit(X_train,y_train)"
   ]
  },
  {
   "cell_type": "code",
   "execution_count": 30,
   "id": "1596bcaa",
   "metadata": {},
   "outputs": [
    {
     "name": "stdout",
     "output_type": "stream",
     "text": [
      "Intercept: [25321.58301178]\n",
      "Coefficient: [[9423.81532303]]\n"
     ]
    }
   ],
   "source": [
    "print(\"Intercept:\", lr.intercept_)\n",
    "print(\"Coefficient:\", lr.coef_)"
   ]
  },
  {
   "cell_type": "code",
   "execution_count": 32,
   "id": "e45fbf89",
   "metadata": {},
   "outputs": [
    {
     "data": {
      "text/plain": [
       "122386.880838909"
      ]
     },
     "execution_count": 32,
     "metadata": {},
     "output_type": "execute_result"
    }
   ],
   "source": [
    "10.3*9423.81532303+25321.5830117"
   ]
  },
  {
   "cell_type": "code",
   "execution_count": 34,
   "id": "8509fb9a",
   "metadata": {},
   "outputs": [],
   "source": [
    "y_pred=lr.predict(X_test)"
   ]
  },
  {
   "cell_type": "code",
   "execution_count": 38,
   "id": "a51837bb",
   "metadata": {},
   "outputs": [
    {
     "data": {
      "text/plain": [
       "array([[115790.21011287,  71498.27809463, 102596.86866063,\n",
       "         75267.80422384,  55477.79204548,  60189.69970699]])"
      ]
     },
     "execution_count": 38,
     "metadata": {},
     "output_type": "execute_result"
    }
   ],
   "source": [
    "y_pred.reshape(1,-1)"
   ]
  },
  {
   "cell_type": "markdown",
   "id": "64624fdf",
   "metadata": {},
   "source": [
    "# Visualization the scatter plot Orginal Dataset and Predicted DataSet"
   ]
  },
  {
   "cell_type": "code",
   "execution_count": 43,
   "id": "4ebbf6a1",
   "metadata": {},
   "outputs": [
    {
     "data": {
      "image/png": "[encoded data removed]",
      "text/plain": [
       "<Figure size 1000x500 with 1 Axes>"
      ]
     },
     "metadata": {},
     "output_type": "display_data"
    }
   ],
   "source": [
    "plt.figure(figsize=(10,5))\n",
    "plt.scatter(df[\"Ind_Data\"], df[\"Dependent_Data\"], marker = \"x\", color = 'g', lw = 5)\n",
    "plt.plot(X_test,y_pred,color='r',label='Predicted values',linewidth=3)\n",
    "plt.xlabel(\"Independent Data\", fontsize = 16)\n",
    "plt.ylabel('Dependent Data', fontsize = 16)\n",
    "plt.title(\"Salary Vs Exp\")\n",
    "plt.show()"
   ]
  },
  {
   "cell_type": "markdown",
   "id": "bf37b919",
   "metadata": {},
   "source": [
    "# Error Calculation"
   ]
  },
  {
   "cell_type": "markdown",
   "id": "8784f58a",
   "metadata": {},
   "source": [
    "## 1) Mean Absolute Error (MAE)\n",
    "\n",
    " ### It measures the average absolute difference between the actual and predicted values of the dependent variable.\n",
    "    \n",
    "## 2) Mean Squared Error (MSE)\n",
    "\n",
    " ### It is a measure of the average squared difference between the actual values (observations) and the predicted values by the model\n",
    " \n",
    " \n",
    "## 3) Root Mean Squared error (RMSE)\n",
    " ###  It is a metric used to evaluate the performance of regression models, especially in cases where the errors are expected to be normally distributed. It is essentially the square root of the Mean Squared Error (MSE).\n"
   ]
  },
  {
   "cell_type": "code",
   "execution_count": 48,
   "id": "04cf729e",
   "metadata": {},
   "outputs": [],
   "source": [
    "from sklearn.metrics import mean_absolute_error\n",
    "from sklearn.metrics import mean_squared_error\n",
    "from sklearn.metrics import r2_score"
   ]
  },
  {
   "cell_type": "code",
   "execution_count": 49,
   "id": "a870263e",
   "metadata": {},
   "outputs": [
    {
     "name": "stdout",
     "output_type": "stream",
     "text": [
      " Mean Squared error : 49830096.85590839\n",
      " Mean Absolute error : 6286.453830757749\n",
      " Root Mean Squared error :7059.04362190151\n",
      " R2 Score :0.9024461774180497\n"
     ]
    }
   ],
   "source": [
    "print(f\" Mean Squared error : {mean_squared_error(y_test,y_pred)}\")\n",
    "print(f\" Mean Absolute error : {mean_absolute_error(y_test,y_pred)}\")\n",
    "print(f\" Root Mean Squared error :{np.sqrt(mean_squared_error(y_test,y_pred))}\")\n",
    "print(f\" R2 Score :{r2_score(y_test,y_pred)}\")"
   ]
  }
 ],
 "metadata": {
  "kernelspec": {
   "display_name": "Python 3 (ipykernel)",
   "language": "python",
   "name": "python3"
  },
  "language_info": {
   "codemirror_mode": {
    "name": "ipython",
    "version": 3
   },
   "file_extension": ".py",
   "mimetype": "text/x-python",
   "name": "python",
   "nbconvert_exporter": "python",
   "pygments_lexer": "ipython3",
   "version": "3.9.13"
  }
 },
 "nbformat": 4,
 "nbformat_minor": 5
}
